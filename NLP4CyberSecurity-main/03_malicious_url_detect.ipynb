{
 "cells": [
  {
   "cell_type": "markdown",
   "metadata": {},
   "source": [
    "# **Malicious URL Detect**\n",
    "\n",
    "#### malicious-url-detection-with-ML\n",
    "\n",
    "malicious url detection with machine learning"
   ]
  },
  {
   "cell_type": "code",
   "execution_count": 1,
   "metadata": {},
   "outputs": [],
   "source": [
    "import os\n",
    "import json\n",
    "from pathlib import Path\n",
    "import pandas as pd\n",
    "import numpy as np\n",
    "\n",
    "from string import printable\n",
    "from sklearn import model_selection\n",
    "from sklearn.metrics import classification_report\n",
    "\n",
    "# from keraspreprocessing import sequence\n",
    "from keras.models import model_from_json"
   ]
  },
  {
   "cell_type": "code",
   "execution_count": 7,
   "metadata": {},
   "outputs": [
    {
     "name": "stdout",
     "output_type": "stream",
     "text": [
      "Collecting keras-preprocessing\n",
      "  Downloading Keras_Preprocessing-1.1.2-py2.py3-none-any.whl (42 kB)\n",
      "     ---------------------------------------- 42.6/42.6 kB 2.0 MB/s eta 0:00:00\n",
      "Requirement already satisfied: numpy>=1.9.1 in c:\\users\\prana\\anaconda3\\lib\\site-packages (from keras-preprocessing) (1.23.5)\n",
      "Requirement already satisfied: six>=1.9.0 in c:\\users\\prana\\anaconda3\\lib\\site-packages (from keras-preprocessing) (1.16.0)\n",
      "Installing collected packages: keras-preprocessing\n",
      "Successfully installed keras-preprocessing-1.1.2\n",
      "Note: you may need to restart the kernel to use updated packages.\n"
     ]
    }
   ],
   "source": [
    "pip install keras-preprocessing"
   ]
  },
  {
   "cell_type": "code",
   "execution_count": 10,
   "metadata": {},
   "outputs": [],
   "source": [
    "from keras_preprocessing.sequence import pad_sequences"
   ]
  },
  {
   "cell_type": "code",
   "execution_count": 2,
   "metadata": {},
   "outputs": [],
   "source": [
    "def print_layers_dims(model):\n",
    "    l_layers = model.layers\n",
    "    # Note None is ALWAYS batch_size\n",
    "    for i in range(len(l_layers)):\n",
    "        print(l_layers[i])\n",
    "        print('Input Shape: ', l_layers[i].input_shape,\n",
    "              'Output Shape: ', l_layers[i].output_shape)"
   ]
  },
  {
   "cell_type": "code",
   "execution_count": 3,
   "metadata": {},
   "outputs": [],
   "source": [
    "def save_model(model, fileModelJSON, fileWeights):\n",
    "    # have h5py installed\n",
    "    if Path(fileModelJSON).is_file():\n",
    "        os.remove(fileModelJSON)\n",
    "    json_string = model.to_json()\n",
    "    with open(fileModelJSON, 'w') as f:\n",
    "        json.dump(json_string, f)\n",
    "\n",
    "    if Path(fileWeights).is_file():\n",
    "        os.remove(fileWeights)\n",
    "    model.save_weights(fileWeights)\n",
    "\n",
    "\n",
    "def load_model(fileModelJSON, fileWeights):\n",
    "    with open(fileModelJSON, 'r') as f:\n",
    "        model_json = json.load(f)\n",
    "        model = model_from_json(model_json)\n",
    "\n",
    "    model.load_weights(fileWeights)\n",
    "    return model"
   ]
  },
  {
   "cell_type": "markdown",
   "metadata": {},
   "source": [
    "## read data"
   ]
  },
  {
   "cell_type": "code",
   "execution_count": 22,
   "metadata": {},
   "outputs": [],
   "source": [
    "def read_data():\n",
    "    data_file_path = r\"C:\\MyCode\\Project\\NLP+cyber_sec\\NLP4CyberSecurity-main\\cache\\malicious_url\\urldata.csv\\urldata.csv\"\n",
    "    df = pd.read_csv(data_file_path)\n",
    "\n",
    "    # Step 1: Convert raw URL string in list of lists where characters that are contained in \"printable\" are stored encoded as integer\n",
    "    url_int_tokens = [\n",
    "        [printable.index(x) + 1 for x in url if x in printable] for url in df.url]\n",
    "\n",
    "    # Step 2: Cut URL string at max_len or pad with zeros if shorter\n",
    "    max_len = 75\n",
    "    X = pad_sequences(url_int_tokens, maxlen=max_len)\n",
    "\n",
    "    # Step 3: Extract labels form df to numpy array\n",
    "    target = np.array(df.result)\n",
    "\n",
    "    print('Matrix dimensions of X: ', X.shape,\n",
    "          'Vector dimension of target: ', target.shape)\n",
    "\n",
    "    X_train, X_test, target_train, target_test = model_selection.train_test_split(\n",
    "        X, target, test_size=0.25, random_state=33)\n",
    "\n",
    "    return X_train, X_test, target_train, target_test"
   ]
  },
  {
   "cell_type": "code",
   "execution_count": 14,
   "metadata": {},
   "outputs": [
    {
     "data": {
      "text/html": [
       "<div>\n",
       "<style scoped>\n",
       "    .dataframe tbody tr th:only-of-type {\n",
       "        vertical-align: middle;\n",
       "    }\n",
       "\n",
       "    .dataframe tbody tr th {\n",
       "        vertical-align: top;\n",
       "    }\n",
       "\n",
       "    .dataframe thead th {\n",
       "        text-align: right;\n",
       "    }\n",
       "</style>\n",
       "<table border=\"1\" class=\"dataframe\">\n",
       "  <thead>\n",
       "    <tr style=\"text-align: right;\">\n",
       "      <th></th>\n",
       "      <th>Unnamed: 0</th>\n",
       "      <th>url</th>\n",
       "      <th>label</th>\n",
       "      <th>result</th>\n",
       "    </tr>\n",
       "  </thead>\n",
       "  <tbody>\n",
       "    <tr>\n",
       "      <th>0</th>\n",
       "      <td>0</td>\n",
       "      <td>https://www.google.com</td>\n",
       "      <td>benign</td>\n",
       "      <td>0</td>\n",
       "    </tr>\n",
       "    <tr>\n",
       "      <th>1</th>\n",
       "      <td>1</td>\n",
       "      <td>https://www.youtube.com</td>\n",
       "      <td>benign</td>\n",
       "      <td>0</td>\n",
       "    </tr>\n",
       "    <tr>\n",
       "      <th>2</th>\n",
       "      <td>2</td>\n",
       "      <td>https://www.facebook.com</td>\n",
       "      <td>benign</td>\n",
       "      <td>0</td>\n",
       "    </tr>\n",
       "    <tr>\n",
       "      <th>3</th>\n",
       "      <td>3</td>\n",
       "      <td>https://www.baidu.com</td>\n",
       "      <td>benign</td>\n",
       "      <td>0</td>\n",
       "    </tr>\n",
       "    <tr>\n",
       "      <th>4</th>\n",
       "      <td>4</td>\n",
       "      <td>https://www.wikipedia.org</td>\n",
       "      <td>benign</td>\n",
       "      <td>0</td>\n",
       "    </tr>\n",
       "    <tr>\n",
       "      <th>...</th>\n",
       "      <td>...</td>\n",
       "      <td>...</td>\n",
       "      <td>...</td>\n",
       "      <td>...</td>\n",
       "    </tr>\n",
       "    <tr>\n",
       "      <th>450171</th>\n",
       "      <td>450171</td>\n",
       "      <td>http://ecct-it.com/docmmmnn/aptgd/index.php</td>\n",
       "      <td>malicious</td>\n",
       "      <td>1</td>\n",
       "    </tr>\n",
       "    <tr>\n",
       "      <th>450172</th>\n",
       "      <td>450172</td>\n",
       "      <td>http://faboleena.com/js/infortis/jquery/plugin...</td>\n",
       "      <td>malicious</td>\n",
       "      <td>1</td>\n",
       "    </tr>\n",
       "    <tr>\n",
       "      <th>450173</th>\n",
       "      <td>450173</td>\n",
       "      <td>http://faboleena.com/js/infortis/jquery/plugin...</td>\n",
       "      <td>malicious</td>\n",
       "      <td>1</td>\n",
       "    </tr>\n",
       "    <tr>\n",
       "      <th>450174</th>\n",
       "      <td>450174</td>\n",
       "      <td>http://atualizapj.com/</td>\n",
       "      <td>malicious</td>\n",
       "      <td>1</td>\n",
       "    </tr>\n",
       "    <tr>\n",
       "      <th>450175</th>\n",
       "      <td>450175</td>\n",
       "      <td>http://writeassociate.com/test/Portal/inicio/I...</td>\n",
       "      <td>malicious</td>\n",
       "      <td>1</td>\n",
       "    </tr>\n",
       "  </tbody>\n",
       "</table>\n",
       "<p>450176 rows × 4 columns</p>\n",
       "</div>"
      ],
      "text/plain": [
       "        Unnamed: 0                                                url  \\\n",
       "0                0                             https://www.google.com   \n",
       "1                1                            https://www.youtube.com   \n",
       "2                2                           https://www.facebook.com   \n",
       "3                3                              https://www.baidu.com   \n",
       "4                4                          https://www.wikipedia.org   \n",
       "...            ...                                                ...   \n",
       "450171      450171        http://ecct-it.com/docmmmnn/aptgd/index.php   \n",
       "450172      450172  http://faboleena.com/js/infortis/jquery/plugin...   \n",
       "450173      450173  http://faboleena.com/js/infortis/jquery/plugin...   \n",
       "450174      450174                             http://atualizapj.com/   \n",
       "450175      450175  http://writeassociate.com/test/Portal/inicio/I...   \n",
       "\n",
       "            label  result  \n",
       "0          benign       0  \n",
       "1          benign       0  \n",
       "2          benign       0  \n",
       "3          benign       0  \n",
       "4          benign       0  \n",
       "...           ...     ...  \n",
       "450171  malicious       1  \n",
       "450172  malicious       1  \n",
       "450173  malicious       1  \n",
       "450174  malicious       1  \n",
       "450175  malicious       1  \n",
       "\n",
       "[450176 rows x 4 columns]"
      ]
     },
     "execution_count": 14,
     "metadata": {},
     "output_type": "execute_result"
    }
   ],
   "source": [
    "data_file_path = r\"C:\\MyCode\\Project\\NLP+cyber_sec\\NLP4CyberSecurity-main\\cache\\malicious_url\\urldata.csv\\urldata.csv\"\n",
    "df = pd.read_csv(data_file_path)\n",
    "df"
   ]
  },
  {
   "cell_type": "code",
   "execution_count": 17,
   "metadata": {},
   "outputs": [
    {
     "data": {
      "text/html": [
       "<div>\n",
       "<style scoped>\n",
       "    .dataframe tbody tr th:only-of-type {\n",
       "        vertical-align: middle;\n",
       "    }\n",
       "\n",
       "    .dataframe tbody tr th {\n",
       "        vertical-align: top;\n",
       "    }\n",
       "\n",
       "    .dataframe thead th {\n",
       "        text-align: right;\n",
       "    }\n",
       "</style>\n",
       "<table border=\"1\" class=\"dataframe\">\n",
       "  <thead>\n",
       "    <tr style=\"text-align: right;\">\n",
       "      <th></th>\n",
       "      <th>url</th>\n",
       "      <th>label</th>\n",
       "      <th>result</th>\n",
       "    </tr>\n",
       "  </thead>\n",
       "  <tbody>\n",
       "    <tr>\n",
       "      <th>0</th>\n",
       "      <td>https://www.google.com</td>\n",
       "      <td>benign</td>\n",
       "      <td>0</td>\n",
       "    </tr>\n",
       "    <tr>\n",
       "      <th>1</th>\n",
       "      <td>https://www.youtube.com</td>\n",
       "      <td>benign</td>\n",
       "      <td>0</td>\n",
       "    </tr>\n",
       "    <tr>\n",
       "      <th>2</th>\n",
       "      <td>https://www.facebook.com</td>\n",
       "      <td>benign</td>\n",
       "      <td>0</td>\n",
       "    </tr>\n",
       "    <tr>\n",
       "      <th>3</th>\n",
       "      <td>https://www.baidu.com</td>\n",
       "      <td>benign</td>\n",
       "      <td>0</td>\n",
       "    </tr>\n",
       "    <tr>\n",
       "      <th>4</th>\n",
       "      <td>https://www.wikipedia.org</td>\n",
       "      <td>benign</td>\n",
       "      <td>0</td>\n",
       "    </tr>\n",
       "    <tr>\n",
       "      <th>...</th>\n",
       "      <td>...</td>\n",
       "      <td>...</td>\n",
       "      <td>...</td>\n",
       "    </tr>\n",
       "    <tr>\n",
       "      <th>450171</th>\n",
       "      <td>http://ecct-it.com/docmmmnn/aptgd/index.php</td>\n",
       "      <td>malicious</td>\n",
       "      <td>1</td>\n",
       "    </tr>\n",
       "    <tr>\n",
       "      <th>450172</th>\n",
       "      <td>http://faboleena.com/js/infortis/jquery/plugin...</td>\n",
       "      <td>malicious</td>\n",
       "      <td>1</td>\n",
       "    </tr>\n",
       "    <tr>\n",
       "      <th>450173</th>\n",
       "      <td>http://faboleena.com/js/infortis/jquery/plugin...</td>\n",
       "      <td>malicious</td>\n",
       "      <td>1</td>\n",
       "    </tr>\n",
       "    <tr>\n",
       "      <th>450174</th>\n",
       "      <td>http://atualizapj.com/</td>\n",
       "      <td>malicious</td>\n",
       "      <td>1</td>\n",
       "    </tr>\n",
       "    <tr>\n",
       "      <th>450175</th>\n",
       "      <td>http://writeassociate.com/test/Portal/inicio/I...</td>\n",
       "      <td>malicious</td>\n",
       "      <td>1</td>\n",
       "    </tr>\n",
       "  </tbody>\n",
       "</table>\n",
       "<p>450176 rows × 3 columns</p>\n",
       "</div>"
      ],
      "text/plain": [
       "                                                      url      label  result\n",
       "0                                  https://www.google.com     benign       0\n",
       "1                                 https://www.youtube.com     benign       0\n",
       "2                                https://www.facebook.com     benign       0\n",
       "3                                   https://www.baidu.com     benign       0\n",
       "4                               https://www.wikipedia.org     benign       0\n",
       "...                                                   ...        ...     ...\n",
       "450171        http://ecct-it.com/docmmmnn/aptgd/index.php  malicious       1\n",
       "450172  http://faboleena.com/js/infortis/jquery/plugin...  malicious       1\n",
       "450173  http://faboleena.com/js/infortis/jquery/plugin...  malicious       1\n",
       "450174                             http://atualizapj.com/  malicious       1\n",
       "450175  http://writeassociate.com/test/Portal/inicio/I...  malicious       1\n",
       "\n",
       "[450176 rows x 3 columns]"
      ]
     },
     "execution_count": 17,
     "metadata": {},
     "output_type": "execute_result"
    }
   ],
   "source": [
    "df.columns.str.match(\"Unnamed\")\n",
    "df.loc[:,~df.columns.str.match(\"Unnamed\")]"
   ]
  },
  {
   "cell_type": "code",
   "execution_count": 21,
   "metadata": {},
   "outputs": [
    {
     "name": "stdout",
     "output_type": "stream",
     "text": [
      "benign       345738\n",
      "malicious    104438\n",
      "Name: label, dtype: int64\n"
     ]
    }
   ],
   "source": [
    "print(df.label.value_counts())\n"
   ]
  },
  {
   "cell_type": "code",
   "execution_count": 23,
   "metadata": {},
   "outputs": [
    {
     "name": "stdout",
     "output_type": "stream",
     "text": [
      "Matrix dimensions of X:  (450176, 75) Vector dimension of target:  (450176,)\n"
     ]
    },
    {
     "data": {
      "text/plain": [
       "array([[ 0,  0,  0, ..., 78, 77, 81],\n",
       "       [ 0,  0,  0, ..., 76, 14, 25],\n",
       "       [ 0,  0,  0, ..., 25, 34, 77],\n",
       "       ...,\n",
       "       [ 0,  0,  0, ..., 26, 24, 17],\n",
       "       [ 0,  0,  0, ..., 25, 34, 77],\n",
       "       [ 0,  0,  0, ...,  3,  8,  2]])"
      ]
     },
     "execution_count": 23,
     "metadata": {},
     "output_type": "execute_result"
    }
   ],
   "source": [
    "X_train, X_test, target_train, target_test = read_data()\n",
    "X_train"
   ]
  },
  {
   "cell_type": "code",
   "execution_count": 24,
   "metadata": {},
   "outputs": [],
   "source": [
    "from models.cnn import ConvFully\n",
    "from models.rnn import SimpleLSTM\n",
    "from models.cnn_rnn import ConvLSTM\n",
    "epochs_num = 10\n",
    "batch_size = 32 #8"
   ]
  },
  {
   "cell_type": "markdown",
   "metadata": {},
   "source": [
    "## **RNN**"
   ]
  },
  {
   "cell_type": "code",
   "execution_count": null,
   "metadata": {},
   "outputs": [],
   "source": [
    "model_name = \"simple_lstm\"\n",
    "model = SimpleLSTM().build_model()\n",
    "model.fit(X_train, target_train,\n",
    "            epochs=epochs_num, batch_size=batch_size)\n",
    "loss, accuracy = model.evaluate(X_test, target_test, verbose=1)\n",
    "\n",
    "print('\\nFinal Cross-Validation Accuracy', accuracy, '\\n')\n",
    "\n",
    "# print_layers_dims(model)\n",
    "# save model\n",
    "json_file_path = os.path.join(\"cache/malicious_url\", model_name + \".json\")\n",
    "weight_file_path = os.path.join(\"cache/malicious_url\", model_name + \".h5\")\n",
    "save_model(model, json_file_path, weight_file_path)\n"
   ]
  },
  {
   "cell_type": "code",
   "execution_count": 8,
   "metadata": {},
   "outputs": [
    {
     "name": "stdout",
     "output_type": "stream",
     "text": [
      "Accuracy Score is:  0.8655441478439425\n",
      "Precision Score is : 0.8579050828418984\n",
      "Recall Score is : 0.8767578205075642\n",
      "F1 Score:  0.8672290036092299\n",
      "AUC Score:  0.8655252346603806\n"
     ]
    }
   ],
   "source": [
    "from utils import eval_utils\n",
    "model_name = \"simple_lstm\"\n",
    "json_file_path = os.path.join(\"cache/malicious_url\", model_name + \".json\")\n",
    "weight_file_path = os.path.join(\"cache/malicious_url\", model_name + \".h5\")\n",
    "model = load_model(json_file_path, weight_file_path)\n",
    "y_pred = model.predict(X_test)\n",
    "# print(y_pred)\n",
    "pred = eval_utils.to_y(y_pred)\n",
    "# print(pred)\n",
    "# print(classification_report(target_test, pred, digits=5))\n",
    "eval_utils.evaluate_result(target_test, pred)"
   ]
  },
  {
   "cell_type": "markdown",
   "metadata": {},
   "source": [
    "## **CNN**"
   ]
  },
  {
   "cell_type": "code",
   "execution_count": 25,
   "metadata": {},
   "outputs": [
    {
     "name": "stderr",
     "output_type": "stream",
     "text": [
      "C:\\Users\\prana\\anaconda3\\lib\\site-packages\\keras\\optimizers\\legacy\\adam.py:117: UserWarning: The `lr` argument is deprecated, use `learning_rate` instead.\n",
      "  super().__init__(name, **kwargs)\n"
     ]
    },
    {
     "name": "stdout",
     "output_type": "stream",
     "text": [
      "Epoch 1/10\n",
      "10551/10551 [==============================] - 276s 26ms/step - loss: 0.2286 - accuracy: 0.9224\n",
      "Epoch 2/10\n",
      "10551/10551 [==============================] - 277s 26ms/step - loss: 0.1589 - accuracy: 0.9510\n",
      "Epoch 3/10\n",
      "10551/10551 [==============================] - 297s 28ms/step - loss: 0.1451 - accuracy: 0.9555\n",
      "Epoch 4/10\n",
      "10551/10551 [==============================] - 292s 28ms/step - loss: 0.1377 - accuracy: 0.9578\n",
      "Epoch 5/10\n",
      "10551/10551 [==============================] - 294s 28ms/step - loss: 0.1241 - accuracy: 0.9618\n",
      "Epoch 6/10\n",
      "10551/10551 [==============================] - 288s 27ms/step - loss: 0.0749 - accuracy: 0.9768\n",
      "Epoch 7/10\n",
      "10551/10551 [==============================] - 288s 27ms/step - loss: 0.0577 - accuracy: 0.9827\n",
      "Epoch 8/10\n",
      "10551/10551 [==============================] - 283s 27ms/step - loss: 0.0532 - accuracy: 0.9841\n",
      "Epoch 9/10\n",
      "10551/10551 [==============================] - 270s 26ms/step - loss: 0.0511 - accuracy: 0.9846\n",
      "Epoch 10/10\n",
      "10551/10551 [==============================] - 281s 27ms/step - loss: 0.0491 - accuracy: 0.9854\n",
      "3517/3517 [==============================] - 31s 8ms/step - loss: 0.0429 - accuracy: 0.9874\n",
      "\n",
      "Final Cross-Validation Accuracy 0.987382709980011 \n",
      "\n",
      "3517/3517 [==============================] - 28s 8ms/step\n"
     ]
    },
    {
     "ename": "ValueError",
     "evalue": "Classification metrics can't handle a mix of binary and continuous targets",
     "output_type": "error",
     "traceback": [
      "\u001b[1;31m---------------------------------------------------------------------------\u001b[0m",
      "\u001b[1;31mValueError\u001b[0m                                Traceback (most recent call last)",
      "Cell \u001b[1;32mIn[25], line 11\u001b[0m\n\u001b[0;32m      8\u001b[0m \u001b[38;5;28mprint\u001b[39m(\u001b[38;5;124m'\u001b[39m\u001b[38;5;130;01m\\n\u001b[39;00m\u001b[38;5;124mFinal Cross-Validation Accuracy\u001b[39m\u001b[38;5;124m'\u001b[39m, accuracy, \u001b[38;5;124m'\u001b[39m\u001b[38;5;130;01m\\n\u001b[39;00m\u001b[38;5;124m'\u001b[39m)\n\u001b[0;32m     10\u001b[0m pred \u001b[38;5;241m=\u001b[39m model\u001b[38;5;241m.\u001b[39mpredict(X_test)\n\u001b[1;32m---> 11\u001b[0m \u001b[38;5;28mprint\u001b[39m(\u001b[43mclassification_report\u001b[49m\u001b[43m(\u001b[49m\u001b[43mtarget_test\u001b[49m\u001b[43m,\u001b[49m\u001b[43m \u001b[49m\u001b[43mpred\u001b[49m\u001b[43m,\u001b[49m\u001b[43m \u001b[49m\u001b[43mdigits\u001b[49m\u001b[38;5;241;43m=\u001b[39;49m\u001b[38;5;241;43m5\u001b[39;49m\u001b[43m)\u001b[49m)\n\u001b[0;32m     13\u001b[0m \u001b[38;5;66;03m# print_layers_dims(model)\u001b[39;00m\n\u001b[0;32m     14\u001b[0m \u001b[38;5;66;03m# save model\u001b[39;00m\n\u001b[0;32m     15\u001b[0m json_file_path \u001b[38;5;241m=\u001b[39m os\u001b[38;5;241m.\u001b[39mpath\u001b[38;5;241m.\u001b[39mjoin(\u001b[38;5;124m\"\u001b[39m\u001b[38;5;124mcache/malicious_url\u001b[39m\u001b[38;5;124m\"\u001b[39m, model_name \u001b[38;5;241m+\u001b[39m \u001b[38;5;124m\"\u001b[39m\u001b[38;5;124m.json\u001b[39m\u001b[38;5;124m\"\u001b[39m)\n",
      "File \u001b[1;32m~\\anaconda3\\lib\\site-packages\\sklearn\\metrics\\_classification.py:2310\u001b[0m, in \u001b[0;36mclassification_report\u001b[1;34m(y_true, y_pred, labels, target_names, sample_weight, digits, output_dict, zero_division)\u001b[0m\n\u001b[0;32m   2195\u001b[0m \u001b[38;5;28;01mdef\u001b[39;00m \u001b[38;5;21mclassification_report\u001b[39m(\n\u001b[0;32m   2196\u001b[0m     y_true,\n\u001b[0;32m   2197\u001b[0m     y_pred,\n\u001b[1;32m   (...)\u001b[0m\n\u001b[0;32m   2204\u001b[0m     zero_division\u001b[38;5;241m=\u001b[39m\u001b[38;5;124m\"\u001b[39m\u001b[38;5;124mwarn\u001b[39m\u001b[38;5;124m\"\u001b[39m,\n\u001b[0;32m   2205\u001b[0m ):\n\u001b[0;32m   2206\u001b[0m     \u001b[38;5;124;03m\"\"\"Build a text report showing the main classification metrics.\u001b[39;00m\n\u001b[0;32m   2207\u001b[0m \n\u001b[0;32m   2208\u001b[0m \u001b[38;5;124;03m    Read more in the :ref:`User Guide <classification_report>`.\u001b[39;00m\n\u001b[1;32m   (...)\u001b[0m\n\u001b[0;32m   2307\u001b[0m \u001b[38;5;124;03m    <BLANKLINE>\u001b[39;00m\n\u001b[0;32m   2308\u001b[0m \u001b[38;5;124;03m    \"\"\"\u001b[39;00m\n\u001b[1;32m-> 2310\u001b[0m     y_type, y_true, y_pred \u001b[38;5;241m=\u001b[39m \u001b[43m_check_targets\u001b[49m\u001b[43m(\u001b[49m\u001b[43my_true\u001b[49m\u001b[43m,\u001b[49m\u001b[43m \u001b[49m\u001b[43my_pred\u001b[49m\u001b[43m)\u001b[49m\n\u001b[0;32m   2312\u001b[0m     \u001b[38;5;28;01mif\u001b[39;00m labels \u001b[38;5;129;01mis\u001b[39;00m \u001b[38;5;28;01mNone\u001b[39;00m:\n\u001b[0;32m   2313\u001b[0m         labels \u001b[38;5;241m=\u001b[39m unique_labels(y_true, y_pred)\n",
      "File \u001b[1;32m~\\anaconda3\\lib\\site-packages\\sklearn\\metrics\\_classification.py:95\u001b[0m, in \u001b[0;36m_check_targets\u001b[1;34m(y_true, y_pred)\u001b[0m\n\u001b[0;32m     92\u001b[0m     y_type \u001b[38;5;241m=\u001b[39m {\u001b[38;5;124m\"\u001b[39m\u001b[38;5;124mmulticlass\u001b[39m\u001b[38;5;124m\"\u001b[39m}\n\u001b[0;32m     94\u001b[0m \u001b[38;5;28;01mif\u001b[39;00m \u001b[38;5;28mlen\u001b[39m(y_type) \u001b[38;5;241m>\u001b[39m \u001b[38;5;241m1\u001b[39m:\n\u001b[1;32m---> 95\u001b[0m     \u001b[38;5;28;01mraise\u001b[39;00m \u001b[38;5;167;01mValueError\u001b[39;00m(\n\u001b[0;32m     96\u001b[0m         \u001b[38;5;124m\"\u001b[39m\u001b[38;5;124mClassification metrics can\u001b[39m\u001b[38;5;124m'\u001b[39m\u001b[38;5;124mt handle a mix of \u001b[39m\u001b[38;5;132;01m{0}\u001b[39;00m\u001b[38;5;124m and \u001b[39m\u001b[38;5;132;01m{1}\u001b[39;00m\u001b[38;5;124m targets\u001b[39m\u001b[38;5;124m\"\u001b[39m\u001b[38;5;241m.\u001b[39mformat(\n\u001b[0;32m     97\u001b[0m             type_true, type_pred\n\u001b[0;32m     98\u001b[0m         )\n\u001b[0;32m     99\u001b[0m     )\n\u001b[0;32m    101\u001b[0m \u001b[38;5;66;03m# We can't have more than one value on y_type => The set is no more needed\u001b[39;00m\n\u001b[0;32m    102\u001b[0m y_type \u001b[38;5;241m=\u001b[39m y_type\u001b[38;5;241m.\u001b[39mpop()\n",
      "\u001b[1;31mValueError\u001b[0m: Classification metrics can't handle a mix of binary and continuous targets"
     ]
    }
   ],
   "source": [
    "model_name = \"conv_fully\"\n",
    "\n",
    "model = ConvFully().build_model()\n",
    "model.fit(X_train, target_train,\n",
    "            epochs=epochs_num, batch_size=batch_size)\n",
    "loss, accuracy = model.evaluate(X_test, target_test, verbose=1)\n",
    "\n",
    "print('\\nFinal Cross-Validation Accuracy', accuracy, '\\n')\n",
    "\n",
    "pred = model.predict(X_test)\n",
    "print(classification_report(target_test, pred, digits=5))\n",
    "\n",
    "# print_layers_dims(model)\n",
    "# save model\n",
    "json_file_path = os.path.join(\"cache/malicious_url\", model_name + \".json\")\n",
    "weight_file_path = os.path.join(\"cache/malicious_url\", model_name + \".h5\")\n",
    "save_model(model, json_file_path, weight_file_path)\n"
   ]
  },
  {
   "cell_type": "code",
   "execution_count": 9,
   "metadata": {},
   "outputs": [
    {
     "name": "stderr",
     "output_type": "stream",
     "text": [
      "/Users/kunma/opt/anaconda3/envs/url-analysis/lib/python3.7/site-packages/tensorflow/python/keras/layers/core.py:1059: UserWarning: malicious_url.nn_model is not loaded, but a Lambda layer uses it. It may cause errors.\n",
      "  , UserWarning)\n"
     ]
    },
    {
     "name": "stdout",
     "output_type": "stream",
     "text": [
      "Accuracy Score is:  0.8379671457905544\n",
      "Precision Score is : 0.8431494883953082\n",
      "Recall Score is : 0.831085236357673\n",
      "F1 Score:  0.8370738958974254\n",
      "AUC Score:  0.8379787529437384\n"
     ]
    }
   ],
   "source": [
    "from utils import eval_utils\n",
    "model_name = \"conv_fully\"\n",
    "json_file_path = os.path.join(\"cache/malicious_url\", model_name + \".json\")\n",
    "weight_file_path = os.path.join(\"cache/malicious_url\", model_name + \".h5\")\n",
    "model = load_model(json_file_path, weight_file_path)\n",
    "y_pred = model.predict(X_test)\n",
    "# print(y_pred)\n",
    "pred = eval_utils.to_y(y_pred)\n",
    "# print(pred)\n",
    "# print(classification_report(target_test, pred, digits=5))\n",
    "eval_utils.evaluate_result(target_test, pred)"
   ]
  },
  {
   "cell_type": "markdown",
   "metadata": {},
   "source": [
    "## **Conv_LSTM**"
   ]
  },
  {
   "cell_type": "code",
   "execution_count": null,
   "metadata": {},
   "outputs": [],
   "source": [
    "model_name = \"conv_lstm\"\n",
    "\n",
    "model = ConvLSTM().build_model()\n",
    "model.fit(X_train, target_train,\n",
    "            epochs=epochs_num, batch_size=batch_size)\n",
    "loss, accuracy = model.evaluate(X_test, target_test, verbose=1)\n",
    "\n",
    "print('\\nFinal Cross-Validation Accuracy', accuracy, '\\n')\n",
    "\n",
    "pred = model.predict(X_test)\n",
    "print(classification_report(target_test, pred, digits=5))\n",
    "\n",
    "# print_layers_dims(model)\n",
    "# save model\n",
    "json_file_path = os.path.join(\"cache/malicious_url\", model_name + \".json\")\n",
    "weight_file_path = os.path.join(\"cache/malicious_url\", model_name + \".h5\")\n",
    "save_model(model, json_file_path, weight_file_path)"
   ]
  },
  {
   "cell_type": "code",
   "execution_count": 10,
   "metadata": {},
   "outputs": [
    {
     "name": "stdout",
     "output_type": "stream",
     "text": [
      "Accuracy Score is:  0.9242505133470226\n",
      "Precision Score is : 0.9288969917958068\n",
      "Recall Score is : 0.9191095076052642\n",
      "F1 Score:  0.92397733127254\n",
      "AUC Score:  0.9242591842604873\n"
     ]
    }
   ],
   "source": [
    "from utils import eval_utils\n",
    "model_name = \"conv_lstm\"\n",
    "json_file_path = os.path.join(\"cache/malicious_url\", model_name + \".json\")\n",
    "weight_file_path = os.path.join(\"cache/malicious_url\", model_name + \".h5\")\n",
    "model = load_model(json_file_path, weight_file_path)\n",
    "y_pred = model.predict(X_test)\n",
    "# print(y_pred)\n",
    "pred = eval_utils.to_y(y_pred)\n",
    "# print(pred)\n",
    "# print(classification_report(target_test, pred, digits=5))\n",
    "eval_utils.evaluate_result(target_test, pred)"
   ]
  }
 ],
 "metadata": {
  "kernelspec": {
   "display_name": "Python 3 (ipykernel)",
   "language": "python",
   "name": "python3"
  },
  "language_info": {
   "codemirror_mode": {
    "name": "ipython",
    "version": 3
   },
   "file_extension": ".py",
   "mimetype": "text/x-python",
   "name": "python",
   "nbconvert_exporter": "python",
   "pygments_lexer": "ipython3",
   "version": "3.10.9"
  },
  "vscode": {
   "interpreter": {
    "hash": "a6057abd5798a041d5b2e8597a30353311df594746bf26b0b4c3807e7d6a1eaa"
   }
  }
 },
 "nbformat": 4,
 "nbformat_minor": 2
}
