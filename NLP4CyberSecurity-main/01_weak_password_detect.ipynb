{
 "cells": [
  {
   "attachments": {},
   "cell_type": "markdown",
   "metadata": {},
   "source": [
    "# **Weak Password Detect**"
   ]
  },
  {
   "cell_type": "code",
   "execution_count": 5,
   "metadata": {},
   "outputs": [],
   "source": [
    "import os\n",
    "import pickle\n",
    "from embedding import tfidf\n",
    "from models import svm_clf"
   ]
  },
  {
   "cell_type": "code",
   "execution_count": 6,
   "metadata": {},
   "outputs": [],
   "source": [
    "def save_model(vectorizer, cls_model):\n",
    "    with open(\"./cache/weak_password/vectorizer.pickle\", \"wb\") as pickle_file:\n",
    "        pickle.dump(vectorizer, pickle_file)\n",
    "\n",
    "    with open(\"./cache/weak_password/svm_clf.pickle\", \"wb\") as pickle_file:\n",
    "        pickle.dump(cls_model, pickle_file)\n",
    "\n",
    "def load_model():\n",
    "    with open(\"./cache/weak_password/vectorizer.pickle\", \"rb\") as pickle_file:\n",
    "        vectorizer = pickle.load(pickle_file)\n",
    "\n",
    "    with open(\"./cache/weak_password/svm_clf.pickle\", \"rb\") as pickle_file:\n",
    "        cls_model = pickle.load(pickle_file)\n",
    "\n",
    "    return vectorizer, cls_model"
   ]
  },
  {
   "attachments": {},
   "cell_type": "markdown",
   "metadata": {},
   "source": [
    "## **Train**"
   ]
  },
  {
   "cell_type": "code",
   "execution_count": 11,
   "metadata": {},
   "outputs": [
    {
     "name": "stdout",
     "output_type": "stream",
     "text": [
      "data/weak_password/data.csv\n"
     ]
    }
   ],
   "source": [
    "data_file_path = os.path.join(\"data/weak_password/\", \"data.csv\")\n",
    "print(data_file_path)"
   ]
  },
  {
   "attachments": {},
   "cell_type": "markdown",
   "metadata": {},
   "source": []
  },
  {
   "cell_type": "code",
   "execution_count": 15,
   "metadata": {},
   "outputs": [
    {
     "ename": "TypeError",
     "evalue": "read_csv() got an unexpected keyword argument 'error_bad_lines'",
     "output_type": "error",
     "traceback": [
      "\u001b[1;31m---------------------------------------------------------------------------\u001b[0m",
      "\u001b[1;31mTypeError\u001b[0m                                 Traceback (most recent call last)",
      "Cell \u001b[1;32mIn[15], line 3\u001b[0m\n\u001b[0;32m      1\u001b[0m data_file_path \u001b[39m=\u001b[39m os\u001b[39m.\u001b[39mpath\u001b[39m.\u001b[39mjoin(\u001b[39m\"\u001b[39m\u001b[39mdata/weak_password\u001b[39m\u001b[39m\"\u001b[39m, \u001b[39m\"\u001b[39m\u001b[39mdata.csv\u001b[39m\u001b[39m\"\u001b[39m)\n\u001b[1;32m----> 3\u001b[0m X, y,vectorizer \u001b[39m=\u001b[39m tfidf\u001b[39m.\u001b[39;49mmake_vector(data_file_path)\n\u001b[0;32m      4\u001b[0m cls_model \u001b[39m=\u001b[39m svm_clf\u001b[39m.\u001b[39mtrain_and_eval(X, y)\n\u001b[0;32m      6\u001b[0m svm_clf\u001b[39m.\u001b[39meval(vectorizer, cls_model)\n",
      "File \u001b[1;32mc:\\MyCode\\Project\\NLP+cyber_sec\\NLP4CyberSecurity-main\\embedding\\tfidf.py:34\u001b[0m, in \u001b[0;36mmake_vector\u001b[1;34m(filepath)\u001b[0m\n\u001b[0;32m     33\u001b[0m \u001b[39mdef\u001b[39;00m \u001b[39mmake_vector\u001b[39m(filepath):\n\u001b[1;32m---> 34\u001b[0m     data \u001b[39m=\u001b[39m pd\u001b[39m.\u001b[39;49mread_csv(filepath, \u001b[39m'\u001b[39;49m\u001b[39m,\u001b[39;49m\u001b[39m'\u001b[39;49m, error_bad_lines\u001b[39m=\u001b[39;49m\u001b[39mFalse\u001b[39;49;00m, encoding\u001b[39m=\u001b[39;49m\u001b[39m\"\u001b[39;49m\u001b[39mutf-8\u001b[39;49m\u001b[39m\"\u001b[39;49m)\n\u001b[0;32m     36\u001b[0m     df \u001b[39m=\u001b[39m pd\u001b[39m.\u001b[39mDataFrame(data)\n\u001b[0;32m     37\u001b[0m     \u001b[39mprint\u001b[39m(df)\n",
      "\u001b[1;31mTypeError\u001b[0m: read_csv() got an unexpected keyword argument 'error_bad_lines'"
     ]
    }
   ],
   "source": [
    "data_file_path = os.path.join(\"data/weak_password\", \"data.csv\")\n",
    "\n",
    "X, y,vectorizer = tfidf.make_vector(data_file_path)\n",
    "cls_model = svm_clf.train_and_eval(X, y)\n",
    "\n",
    "svm_clf.eval(vectorizer, cls_model)\n",
    "\n",
    "save_model(vectorizer, cls_model)"
   ]
  },
  {
   "attachments": {},
   "cell_type": "markdown",
   "metadata": {},
   "source": [
    "## **Inference**"
   ]
  },
  {
   "cell_type": "code",
   "execution_count": 5,
   "metadata": {},
   "outputs": [
    {
     "name": "stdout",
     "output_type": "stream",
     "text": [
      "WUt9IZzE0OQ7PkNE 2\n",
      "elyass15@ajilent-ci 2\n",
      "jerusalem393 1\n",
      "g067057895 1\n",
      "intel1 0\n"
     ]
    }
   ],
   "source": [
    "vectorizer, cls_model = load_model()\n",
    "\n",
    "password_list = [\n",
    "    \"WUt9IZzE0OQ7PkNE\",\n",
    "    \"elyass15@ajilent-ci\",\n",
    "    \"jerusalem393\",\n",
    "    \"g067057895\",\n",
    "    \"intel1\"\n",
    "]\n",
    "\n",
    "X_predict = vectorizer.transform(password_list)\n",
    "y_Predict = cls_model.predict(X_predict)\n",
    "\n",
    "for i, pwd in enumerate(password_list):\n",
    "    print(pwd, y_Predict[i])"
   ]
  }
 ],
 "metadata": {
  "kernelspec": {
   "display_name": "Python 3.7.6 ('base')",
   "language": "python",
   "name": "python3"
  },
  "language_info": {
   "codemirror_mode": {
    "name": "ipython",
    "version": 3
   },
   "file_extension": ".py",
   "mimetype": "text/x-python",
   "name": "python",
   "nbconvert_exporter": "python",
   "pygments_lexer": "ipython3",
   "version": "3.11.3"
  },
  "orig_nbformat": 4,
  "vscode": {
   "interpreter": {
    "hash": "0ab5d452724e65f9afe012f16bb90411ae986c084a837887e8012a8e2a746660"
   }
  }
 },
 "nbformat": 4,
 "nbformat_minor": 2
}
